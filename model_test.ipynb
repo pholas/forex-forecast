{
 "cells": [
  {
   "cell_type": "markdown",
   "id": "maritime-indication",
   "metadata": {},
   "source": [
    "# Financial Forecast Demo"
   ]
  },
  {
   "cell_type": "code",
   "execution_count": 1,
   "id": "static-victorian",
   "metadata": {},
   "outputs": [
    {
     "name": "stdout",
     "output_type": "stream",
     "text": [
      "2021-03-29 23:29:01,357 - utils - DEBUG - test debug logging\n",
      "2021-03-29 23:29:01,364 - __main__ - DEBUG - numpy version: 1.20.2\n",
      "2021-03-29 23:29:01,441 - __main__ - DEBUG - sklearn version: 0.23.0\n"
     ]
    }
   ],
   "source": [
    "import os\n",
    "import sys\n",
    "import uuid\n",
    "import time\n",
    "import json\n",
    "from pathlib import Path\n",
    "\n",
    "##### Import my module build from python file\n",
    "module_path = str(Path.cwd() / \"py\")\n",
    "debug_data_path = str(Path.cwd() / \"debug_data\")\n",
    "\n",
    "if module_path not in sys.path:\n",
    "    sys.path.append(module_path)\n",
    "import build as build\n",
    "import utils\n",
    "from utils import get_module_version\n",
    "log = utils.setup_logging(__name__)\n",
    "\n",
    "##### Import common machine learning modules\n",
    "import numpy as np\n",
    "import pandas as pd\n",
    "import pickle\n",
    "log.debug('numpy version: %s' % np.__version__)\n",
    "\n",
    "##### Import sklearn\n",
    "import sklearn\n",
    "from sklearn.linear_model import LinearRegression\n",
    "from sklearn import preprocessing, svm \n",
    "from sklearn.model_selection import train_test_split\n",
    "log.debug('sklearn version: %s' % sklearn.__version__)\n",
    "from sklearn.pipeline import Pipeline\n",
    "from sklearn.preprocessing import MinMaxScaler\n",
    "from sklearn.preprocessing import StandardScaler\n"
   ]
  },
  {
   "cell_type": "markdown",
   "id": "upper-addiction",
   "metadata": {},
   "source": [
    "Model parameters."
   ]
  },
  {
   "cell_type": "code",
   "execution_count": 2,
   "id": "conventional-temperature",
   "metadata": {},
   "outputs": [],
   "source": [
    "MODEL_WINDOW_SIZE = 60\n",
    "# Sklearn test_size\n",
    "SKLEARN_TEST_SIZE = 0.20"
   ]
  },
  {
   "cell_type": "markdown",
   "id": "polar-india",
   "metadata": {},
   "source": [
    "All credentials for Watson Machine Learning, Watson OpenScale and its associated DataMart"
   ]
  },
  {
   "cell_type": "code",
   "execution_count": 3,
   "id": "fatty-oregon",
   "metadata": {},
   "outputs": [
    {
     "name": "stdout",
     "output_type": "stream",
     "text": [
      "2021-03-29 23:29:01,455 - __main__ - DEBUG - Model Base Path: /Users/jack/sources/pholas/forex-forecast/saved_model\n"
     ]
    }
   ],
   "source": [
    "model_path = build.get_model_base_path()\n",
    "log.debug(\"Model Base Path: \" + model_path)"
   ]
  },
  {
   "cell_type": "code",
   "execution_count": 4,
   "id": "young-crossing",
   "metadata": {},
   "outputs": [],
   "source": [
    "#debug_data_csv = 'debug_data/EURUSD_M1_202103150000_202103251441.csv'\n",
    "\n",
    "#debug_data_csv = 'debug_data/EURUSD_M1_202102250000_202103251443.csv'\n",
    "\n",
    "debug_data_csv = 'debug_data/EURUSD_M1_202012150519_202103251444.csv'\n",
    "def get_training_float_data_from_exported_csv() :\n",
    "    history_dataset = pd.read_csv(debug_data_csv, sep='\\t')\n",
    "    #history_dataset['DATE_TIME'] = history_dataset['<DATE>'] + ' ' + history_dataset['<TIME>']\n",
    "    values = history_dataset['<CLOSE>'].values\n",
    "    log.debug(type(values.tolist()))\n",
    "    return values.tolist()"
   ]
  },
  {
   "cell_type": "code",
   "execution_count": 5,
   "id": "immune-female",
   "metadata": {},
   "outputs": [],
   "source": [
    "def get_training_float_data_from_json() :\n",
    "    debug_data_json_path = debug_data_path + '/input_data.json'\n",
    "    with open(debug_data_json_path) as json_file:\n",
    "        input_data = json.load(json_file)\n",
    "    log.debug(type(input_data['Data']))\n",
    "    float_data = [float(s) for s in input_data['Data']]"
   ]
  },
  {
   "cell_type": "code",
   "execution_count": 6,
   "id": "chemical-repository",
   "metadata": {},
   "outputs": [
    {
     "name": "stdout",
     "output_type": "stream",
     "text": [
      "2021-03-29 23:29:01,627 - __main__ - DEBUG - <class 'list'>\n",
      "====60\n",
      "====\n",
      "2021-03-29 23:29:01,881 - __main__ - DEBUG - <class 'list'>\n",
      "[1.193, 1.19308, 1.19325, 1.19337, 1.19352, 1.19359, 1.19352, 1.19366, 1.19365, 1.19353, 1.19372, 1.19374, 1.19378, 1.1938, 1.19383, 1.19359, 1.19342, 1.19344, 1.19362, 1.19372, 1.19356, 1.19348, 1.19359, 1.19341, 1.19384, 1.19389, 1.1941, 1.19411, 1.19402, 1.19383, 1.1938, 1.19359, 1.1933, 1.19329, 1.19319, 1.19301, 1.19307, 1.19342, 1.19342, 1.19321, 1.19317, 1.1931, 1.19302, 1.19312, 1.19302, 1.19302, 1.19322, 1.19343, 1.19341, 1.19334, 1.19338, 1.19327, 1.19327, 1.19332, 1.19307, 1.19287, 1.19271, 1.19277, 1.19271, 1.19271]\n",
      "            0        1        2        3        4        5        6        7   \\\n",
      "0      1.19300  1.19308  1.19325  1.19337  1.19352  1.19359  1.19352  1.19366   \n",
      "1      1.19308  1.19325  1.19337  1.19352  1.19359  1.19352  1.19366  1.19365   \n",
      "2      1.19325  1.19337  1.19352  1.19359  1.19352  1.19366  1.19365  1.19353   \n",
      "3      1.19337  1.19352  1.19359  1.19352  1.19366  1.19365  1.19353  1.19372   \n",
      "4      1.19352  1.19359  1.19352  1.19366  1.19365  1.19353  1.19372  1.19374   \n",
      "...        ...      ...      ...      ...      ...      ...      ...      ...   \n",
      "20160  1.18076  1.18076  1.18081  1.18091  1.18098  1.18106  1.18091  1.18110   \n",
      "20161  1.18076  1.18081  1.18091  1.18098  1.18106  1.18091  1.18110  1.18088   \n",
      "20162  1.18081  1.18091  1.18098  1.18106  1.18091  1.18110  1.18088  1.18086   \n",
      "20163  1.18091  1.18098  1.18106  1.18091  1.18110  1.18088  1.18086  1.18088   \n",
      "20164  1.18098  1.18106  1.18091  1.18110  1.18088  1.18086  1.18088  1.18091   \n",
      "\n",
      "            8        9   ...       50       51       52       53       54  \\\n",
      "0      1.19365  1.19353  ...  1.19338  1.19327  1.19327  1.19332  1.19307   \n",
      "1      1.19353  1.19372  ...  1.19327  1.19327  1.19332  1.19307  1.19287   \n",
      "2      1.19372  1.19374  ...  1.19327  1.19332  1.19307  1.19287  1.19271   \n",
      "3      1.19374  1.19378  ...  1.19332  1.19307  1.19287  1.19271  1.19277   \n",
      "4      1.19378  1.19380  ...  1.19307  1.19287  1.19271  1.19277  1.19271   \n",
      "...        ...      ...  ...      ...      ...      ...      ...      ...   \n",
      "20160  1.18088  1.18086  ...  1.18050  1.18051  1.18047  1.18043  1.18038   \n",
      "20161  1.18086  1.18088  ...  1.18051  1.18047  1.18043  1.18038  1.18027   \n",
      "20162  1.18088  1.18091  ...  1.18047  1.18043  1.18038  1.18027  1.18028   \n",
      "20163  1.18091  1.18070  ...  1.18043  1.18038  1.18027  1.18028  1.18012   \n",
      "20164  1.18070  1.18062  ...  1.18038  1.18027  1.18028  1.18012  1.18012   \n",
      "\n",
      "            55       56       57       58       59  \n",
      "0      1.19287  1.19271  1.19277  1.19271  1.19271  \n",
      "1      1.19271  1.19277  1.19271  1.19271  1.19256  \n",
      "2      1.19277  1.19271  1.19271  1.19256  1.19245  \n",
      "3      1.19271  1.19271  1.19256  1.19245  1.19242  \n",
      "4      1.19271  1.19256  1.19245  1.19242  1.19229  \n",
      "...        ...      ...      ...      ...      ...  \n",
      "20160  1.18027  1.18028  1.18012  1.18012  1.18016  \n",
      "20161  1.18028  1.18012  1.18012  1.18016  1.18031  \n",
      "20162  1.18012  1.18012  1.18016  1.18031  1.17957  \n",
      "20163  1.18012  1.18016  1.18031  1.17957  1.17990  \n",
      "20164  1.18016  1.18031  1.17957  1.17990  1.17963  \n",
      "\n",
      "[20165 rows x 60 columns]\n"
     ]
    }
   ],
   "source": [
    "float_data = get_training_float_data_from_exported_csv()\n",
    "X, y = build.get_feature_label_sklearn(float_data, default_window_size=MODEL_WINDOW_SIZE)\n",
    "\n",
    "print(\"====\" + str(len(X[-1])))\n",
    "print(\"====\")\n",
    "# Splitting the data into training and testing data\n",
    "X_train, X_test, y_train, y_test = train_test_split(X, y, test_size = SKLEARN_TEST_SIZE, random_state=None, shuffle=False) \n",
    "\n",
    "log.debug(type(X_test[0]))\n",
    "print(X_test[0])\n",
    "print(pd.DataFrame(X_test))"
   ]
  },
  {
   "cell_type": "code",
   "execution_count": 7,
   "id": "atlantic-stocks",
   "metadata": {},
   "outputs": [
    {
     "name": "stdout",
     "output_type": "stream",
     "text": [
      "2021-03-29 23:29:02,006 - __main__ - DEBUG - ['f0', 'f1', 'f2', 'f3', 'f4', 'f5', 'f6', 'f7', 'f8', 'f9', 'f10', 'f11', 'f12', 'f13', 'f14', 'f15', 'f16', 'f17', 'f18', 'f19', 'f20', 'f21', 'f22', 'f23', 'f24', 'f25', 'f26', 'f27', 'f28', 'f29', 'f30', 'f31', 'f32', 'f33', 'f34', 'f35', 'f36', 'f37', 'f38', 'f39', 'f40', 'f41', 'f42', 'f43', 'f44', 'f45', 'f46', 'f47', 'f48', 'f49', 'f50', 'f51', 'f52', 'f53', 'f54', 'f55', 'f56', 'f57', 'f58', 'f59']\n",
      "2021-03-29 23:29:02,983 - __main__ - DEBUG - 100824\n"
     ]
    }
   ],
   "source": [
    "fields = ['f' + str(i) for i in range(MODEL_WINDOW_SIZE)]\n",
    "log.debug(fields)\n",
    "\n",
    "#print(len(X[-1]))\n",
    "\n",
    "#X_np = np.array([np.array(xi) for xi in X])\n",
    "\n",
    "training_data_df = pd.DataFrame(X, columns=fields)\n",
    "log.debug(len(y))\n",
    "training_data_df['l1'] = y\n",
    "\n",
    "training_data_file_name=\"model_data.csv\"\n",
    "\n",
    "training_data_df.head(10)\n",
    "training_data_df.to_csv(training_data_file_name, index = False, header=True)"
   ]
  },
  {
   "cell_type": "code",
   "execution_count": 8,
   "id": "secret-facility",
   "metadata": {},
   "outputs": [
    {
     "name": "stdout",
     "output_type": "stream",
     "text": [
      "2021-03-29 23:29:08,139 - __main__ - DEBUG - Linear regression score: -157.457677\n",
      "2021-03-29 23:29:08,140 - __main__ - DEBUG - Coeffience: \n",
      "2021-03-29 23:29:08,140 - __main__ - DEBUG - [ 1.25720177e-04 -1.70583874e-04 -2.84721157e-04  2.91931965e-04\n",
      " -7.75534475e-06  2.02355012e-04  1.95276989e-04 -2.57249601e-04\n",
      " -2.40465427e-04  3.58156977e-04 -3.49816649e-05 -2.83035792e-04\n",
      "  3.82707178e-04 -2.39859639e-04 -1.67303870e-04  7.70265944e-05\n",
      "  8.39032897e-05 -4.67857472e-06 -2.62710853e-04  1.09721925e-04\n",
      " -4.12379017e-05  2.59765891e-04  2.27252879e-04 -4.44769734e-04\n",
      "  1.49281550e-04 -2.50624662e-04  2.07092495e-04 -1.87093523e-04\n",
      "  1.72472167e-04  5.75223181e-05  6.12840659e-05 -6.49652582e-05\n",
      " -9.05531329e-05  1.94115934e-04 -1.03493373e-04 -3.25860005e-04\n",
      "  2.69571634e-04 -2.01182127e-04  4.42036849e-04  2.16210444e-05\n",
      " -1.03019583e-04 -4.48232077e-04  4.37954711e-04 -1.10629003e-05\n",
      " -4.97216981e-04  9.48253250e-04 -8.61887080e-04 -2.19410375e-06\n",
      "  6.68074750e-04 -3.27473925e-04  2.17863945e-04 -4.33400904e-05\n",
      " -2.09469415e-04  2.11169131e-04 -1.12769985e-04  2.72868741e-04\n",
      "  3.49519306e-05  4.04368645e-04  2.78364610e-04  4.23136326e-02]\n",
      "2021-03-29 23:29:08,142 - __main__ - DEBUG - Intercept: 1.191472\n"
     ]
    }
   ],
   "source": [
    "scaler = MinMaxScaler()\n",
    "\n",
    "model = LinearRegression()\n",
    "\n",
    "pipeline = Pipeline([('scaler', scaler), ('lr', model)])\n",
    "type(pipeline)\n",
    "\n",
    "pipeline.fit(X_train, y_train)\n",
    "\n",
    "# model.fit(X_train, y_train)\n",
    "\n",
    "log.debug(\"Linear regression score: %f\" % model.score(X_test, y_test)) \n",
    "log.debug(\"Coeffience: \")\n",
    "log.debug(model.coef_)\n",
    "log.debug(\"Intercept: %f\" % model.intercept_)\n",
    "\n",
    "# Save model\n",
    "sklearn_model_file_pickle = 'saved_model/ff_sklearn_pickle.pkl'\n",
    "build.save_sklearn_model(model, sklearn_model_file_pickle)\n",
    "\n",
    "# Load model\n",
    "model = build.load_sklearn_model(sklearn_model_file_pickle)\n",
    "\n",
    "# Predict X_test, all test samples\n",
    "y#_pred = model.predict(X_test)\n",
    "y_pred = pipeline.predict(X_test)"
   ]
  },
  {
   "cell_type": "code",
   "execution_count": 9,
   "id": "modern-conjunction",
   "metadata": {},
   "outputs": [
    {
     "data": {
      "text/html": [
       "<div>\n",
       "<style scoped>\n",
       "    .dataframe tbody tr th:only-of-type {\n",
       "        vertical-align: middle;\n",
       "    }\n",
       "\n",
       "    .dataframe tbody tr th {\n",
       "        vertical-align: top;\n",
       "    }\n",
       "\n",
       "    .dataframe thead th {\n",
       "        text-align: right;\n",
       "    }\n",
       "</style>\n",
       "<table border=\"1\" class=\"dataframe\">\n",
       "  <thead>\n",
       "    <tr style=\"text-align: right;\">\n",
       "      <th></th>\n",
       "      <th>Actual</th>\n",
       "      <th>Predicted</th>\n",
       "    </tr>\n",
       "  </thead>\n",
       "  <tbody>\n",
       "    <tr>\n",
       "      <th>0</th>\n",
       "      <td>1.19256</td>\n",
       "      <td>1.192718</td>\n",
       "    </tr>\n",
       "    <tr>\n",
       "      <th>1</th>\n",
       "      <td>1.19245</td>\n",
       "      <td>1.192565</td>\n",
       "    </tr>\n",
       "    <tr>\n",
       "      <th>2</th>\n",
       "      <td>1.19242</td>\n",
       "      <td>1.192461</td>\n",
       "    </tr>\n",
       "    <tr>\n",
       "      <th>3</th>\n",
       "      <td>1.19229</td>\n",
       "      <td>1.192422</td>\n",
       "    </tr>\n",
       "    <tr>\n",
       "      <th>4</th>\n",
       "      <td>1.19242</td>\n",
       "      <td>1.192297</td>\n",
       "    </tr>\n",
       "    <tr>\n",
       "      <th>...</th>\n",
       "      <td>...</td>\n",
       "      <td>...</td>\n",
       "    </tr>\n",
       "    <tr>\n",
       "      <th>20160</th>\n",
       "      <td>1.18031</td>\n",
       "      <td>1.180158</td>\n",
       "    </tr>\n",
       "    <tr>\n",
       "      <th>20161</th>\n",
       "      <td>1.17957</td>\n",
       "      <td>1.180312</td>\n",
       "    </tr>\n",
       "    <tr>\n",
       "      <th>20162</th>\n",
       "      <td>1.17990</td>\n",
       "      <td>1.179596</td>\n",
       "    </tr>\n",
       "    <tr>\n",
       "      <th>20163</th>\n",
       "      <td>1.17963</td>\n",
       "      <td>1.179909</td>\n",
       "    </tr>\n",
       "    <tr>\n",
       "      <th>20164</th>\n",
       "      <td>1.17924</td>\n",
       "      <td>1.179638</td>\n",
       "    </tr>\n",
       "  </tbody>\n",
       "</table>\n",
       "<p>20165 rows × 2 columns</p>\n",
       "</div>"
      ],
      "text/plain": [
       "        Actual  Predicted\n",
       "0      1.19256   1.192718\n",
       "1      1.19245   1.192565\n",
       "2      1.19242   1.192461\n",
       "3      1.19229   1.192422\n",
       "4      1.19242   1.192297\n",
       "...        ...        ...\n",
       "20160  1.18031   1.180158\n",
       "20161  1.17957   1.180312\n",
       "20162  1.17990   1.179596\n",
       "20163  1.17963   1.179909\n",
       "20164  1.17924   1.179638\n",
       "\n",
       "[20165 rows x 2 columns]"
      ]
     },
     "execution_count": 9,
     "metadata": {},
     "output_type": "execute_result"
    }
   ],
   "source": [
    "df = pd.DataFrame({'Actual': y_test, 'Predicted': y_pred})\n",
    "df"
   ]
  },
  {
   "cell_type": "code",
   "execution_count": 10,
   "id": "vertical-stephen",
   "metadata": {},
   "outputs": [
    {
     "name": "stdout",
     "output_type": "stream",
     "text": [
      "Mean Absolute Error: 8.40318366615625e-05\n",
      "Mean Squared Error: 1.6048633406592367e-08\n",
      "Root Mean Squared Error: 0.00012668320096442294\n",
      "R2 score: 0.9990856998275862\n"
     ]
    }
   ],
   "source": [
    "from sklearn import metrics\n",
    "print('Mean Absolute Error:', metrics.mean_absolute_error(y_test, y_pred))\n",
    "print('Mean Squared Error:', metrics.mean_squared_error(y_test, y_pred))\n",
    "print('Root Mean Squared Error:', np.sqrt(metrics.mean_squared_error(y_test, y_pred)))\n",
    "print('R2 score:', metrics.r2_score(y_test, y_pred))"
   ]
  },
  {
   "cell_type": "code",
   "execution_count": null,
   "id": "brutal-merit",
   "metadata": {},
   "outputs": [],
   "source": []
  }
 ],
 "metadata": {
  "kernelspec": {
   "display_name": "Python 3",
   "language": "python",
   "name": "python3"
  },
  "language_info": {
   "codemirror_mode": {
    "name": "ipython",
    "version": 3
   },
   "file_extension": ".py",
   "mimetype": "text/x-python",
   "name": "python",
   "nbconvert_exporter": "python",
   "pygments_lexer": "ipython3",
   "version": "3.7.10"
  }
 },
 "nbformat": 4,
 "nbformat_minor": 5
}
